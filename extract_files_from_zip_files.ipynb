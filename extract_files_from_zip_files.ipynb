{
 "cells": [
  {
   "cell_type": "markdown",
   "metadata": {},
   "source": [
    "# Extract all or specific files from one or multiple zip files\n",
    "\n",
    "## Goal\n",
    "\n",
    "Extract all or specific files, using a file indicator, from one or multiple zip files, located in a specific folder.\\\n",
    "If files from multiple zip files need to be extrated to a separate folder per zip file, the zip file name will be used to name each new folder.\\\n",
    "Incase extracted files need to be merged into one folder, if file names are repeated in the different zip files, the zip file name will be added as a prefix to the extracted files.\n",
    "\n",
    "## Example\n",
    "* **Zip files to extract files from:**\n",
    "> test1.zip [AAAB.csv, AAAM10.csv]\\\n",
    "> test2.zip [AAAB.csv, AAAM20.csv]\n",
    "\n",
    "\n",
    "* **If extraction to one folder per zip file:**\n",
    "    * if file_indicator = 'AAAM'\n",
    "    > test1 [AAAM10.csv]\\\n",
    "    > test2 [AAAM20.csv]\n",
    "\n",
    "* **If extraction to one folders from all zip files:**\n",
    "\n",
    "    * if file_indicator = 'AAAM'\n",
    "    > oneFolder [AAAM10.csv, AAAM20.csv]\n",
    "    \n",
    "    * if file_indicator = 'AAAB'\n",
    "    > oneFolder [test1-AAAB.csv, test2-AAAB.csv]\n",
    "    \n",
    "    * if file_indicator = 'AAA' or ''\n",
    "    > oneFolder [test1-AAAB.csv, test1-AAAM10.csv, test2-AAAB.csv, test2-AAAM20.csv]\n"
   ]
  },
  {
   "cell_type": "markdown",
   "metadata": {},
   "source": [
    "## Python3 Code"
   ]
  },
  {
   "cell_type": "code",
   "execution_count": 1,
   "metadata": {},
   "outputs": [],
   "source": [
    "from zipfile import ZipFile\n",
    "import os"
   ]
  },
  {
   "cell_type": "code",
   "execution_count": 2,
   "metadata": {},
   "outputs": [],
   "source": [
    "# zip files directory path\n",
    "direc = r\"C:\\Users\\hassan.elhassan\\OneDrive - Confo Therapeutics\\Documents\\NGS\\2020-04-24 cycle6\\AnnotatorMail\\20200424\""
   ]
  },
  {
   "cell_type": "code",
   "execution_count": 3,
   "metadata": {},
   "outputs": [],
   "source": [
    "# the string indicator that will be used to extract specific files, only the files who contain that indicator\n",
    "# use empty string, \"\", if all files need to be extracted from the zip files\n",
    "file_indicator = \"AnnotatedVRegion-AA.txt\""
   ]
  },
  {
   "cell_type": "code",
   "execution_count": 4,
   "metadata": {},
   "outputs": [],
   "source": [
    "# if extracted files need to be merged into one folder (True) or not (False)\n",
    "merge = True\n",
    "# if merge True, output merge folder \n",
    "merge_folder = \"AA.txt files\""
   ]
  },
  {
   "cell_type": "code",
   "execution_count": 5,
   "metadata": {},
   "outputs": [],
   "source": [
    "# if merge is True create a list and a set from all file names, containing the indicator, from all the zip files \n",
    "# difference in length between the list and set indicate the presence of files with identical names in the list\n",
    "# set does not contain duplicate values\n",
    "if merge:\n",
    "    \n",
    "    # create empty list to hold all file names\n",
    "    files_list = []\n",
    "\n",
    "    # loop over all files in given directory\n",
    "    for i in os.listdir(direc):\n",
    "        \n",
    "        # check if file is zip file\n",
    "        if i.endswith(\".zip\"):\n",
    "            \n",
    "            # open zip file, 'with' will close the zip file after use\n",
    "            with ZipFile(direc+\"\\\\\"+i) as files:\n",
    "                \n",
    "                # loop over names of the files in the zip file\n",
    "                for file in files.namelist():\n",
    "                    \n",
    "                    # check if file_indicator is in file name\n",
    "                    if file_indicator in file:\n",
    "                        \n",
    "                        # append the files containing the file indicator to the list\n",
    "                        files_list.append(file)\n",
    "    \n",
    "    # create a set out of the files_list that holds all the file names, containing the file indicator, in the zip files\n",
    "    files_set = set(files_list)\n"
   ]
  },
  {
   "cell_type": "code",
   "execution_count": 18,
   "metadata": {},
   "outputs": [],
   "source": [
    "# extract files \n",
    "# loop over all files in given directory\n",
    "for i in os.listdir(direc):\n",
    "    \n",
    "    # check if zip file\n",
    "    if i.endswith(\".zip\"):\n",
    "        \n",
    "        # open zip file, 'with' will close the zip file after use \n",
    "        with ZipFile(direc+\"\\\\\"+i) as files:\n",
    "            \n",
    "            # loop over the names of the files in the zip file\n",
    "            for file in files.namelist():\n",
    "                \n",
    "                # check if file_indicator is in file name\n",
    "                if file_indicator in file:\n",
    "                    \n",
    "                    # if merge is False create one folder per zip file named after each zip file\n",
    "                    if not merge:\n",
    "                        \n",
    "                        # destination folder name using the zip file name without the .zip extension\n",
    "                        dest = direc+\"\\\\\"+ os.path.splitext(i)[0]\n",
    "                        \n",
    "                        # extract file to the destination folder, folder will be created if not exist\n",
    "                        files.extract(file, dest)\n",
    "                     \n",
    "                    # if merge is True create one folder\n",
    "                    elif merge:\n",
    "                        \n",
    "                        # destination folder\n",
    "                        dest = direc+\"\\\\\"+ merge_folder\n",
    "\n",
    "                        # extract file to the destination folder, folder will be created if not exist\n",
    "                        files.extract(file, dest)\n",
    "                        \n",
    "                        # if len of 'files_list' is not equal to len of 'files_set' add the zip file name as prefix to each of the extracted files\n",
    "                        if len(files_list)!=len(files_set):\n",
    "                            \n",
    "                            # the old name of the file\n",
    "                            old_file_name = dest+\"\\\\\"+file\n",
    "                            \n",
    "                            # the new name containing the zip file name without the .zip extension as prefix\n",
    "                            new_file_name = dest+\"\\\\\"+os.path.splitext(i)[0] + \"-\" + file\n",
    "                            \n",
    "                            # rename olf file name to the new file name\n",
    "                            os.rename(old_file_name,new_file_name)\n"
   ]
  },
  {
   "cell_type": "code",
   "execution_count": null,
   "metadata": {},
   "outputs": [],
   "source": []
  }
 ],
 "metadata": {
  "kernelspec": {
   "display_name": "Python 3",
   "language": "python",
   "name": "python3"
  },
  "language_info": {
   "codemirror_mode": {
    "name": "ipython",
    "version": 3
   },
   "file_extension": ".py",
   "mimetype": "text/x-python",
   "name": "python",
   "nbconvert_exporter": "python",
   "pygments_lexer": "ipython3",
   "version": "3.8.3"
  }
 },
 "nbformat": 4,
 "nbformat_minor": 4
}
